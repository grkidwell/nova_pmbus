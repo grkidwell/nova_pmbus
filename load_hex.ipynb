{
 "cells": [
  {
   "cell_type": "code",
   "execution_count": 1,
   "metadata": {},
   "outputs": [],
   "source": [
    "import lib.dongle_cmds as d\n",
    "import time"
   ]
  },
  {
   "cell_type": "code",
   "execution_count": 2,
   "metadata": {},
   "outputs": [],
   "source": [
    "with open('ISL69269-1 0x60.hex') as file:\n",
    "    file_contents = file.read()"
   ]
  },
  {
   "cell_type": "code",
   "execution_count": 3,
   "metadata": {},
   "outputs": [],
   "source": [
    "header_dict  = {'type': (0,2),   'bytenum': (2,4),\n",
    "                'addr': (4,6),   'IDcode' : (6,8),\n",
    "                'dum' : (8,12),  'IDdata' : (8,16),\n",
    "                'zero': (14,16), 'CRC'    : (16,18)}\n",
    "\n",
    "write7_parse = {'zero': (0,2),  'bytenum': (2,4),\n",
    "                'addr': (4,6),  'comcode': (6,8),\n",
    "                'data': (8,16), 'CRC'    : (16,18)}\n",
    "\n",
    "write5_parse = {'zero': (0,2),  'bytenum': (2,4),\n",
    "                'addr': (4,6),  'comcode': (6,8),\n",
    "                'data': (8,14), 'CRC'    : (14,16)}\n",
    "\n",
    "hex_file_line_parse = {'header'  : (0,5),\n",
    "                       'commands': (5,-2),\n",
    "                       'exec'    : (-2,-1)}\n",
    "\n",
    "register = {'avail_NVM_slots': {'d_func': d.read_dma_cmd,'reg': ['0xc2', '0x00'],'data_length': 4, 'parse_idx':(0,1), 'mask': 0xFF, 'function': 'int_8bit'},\n",
    "            'device_ID'      : {'d_func': d.read_smb_cmd,'reg': ['0xad'],        'data_length': 4, 'parse_idx':(2,3), 'mask': 0xFF, 'function': 'read_reg'},\n",
    "            'revision'       : {'d_func': d.read_smb_cmd,'reg': ['0xae'],        'data_length': 5, 'parse_idx':(1,5), 'mask': 0xFF, 'function': 'rev_reg'},\n",
    "            'prog_status'    : {'d_func': d.read_dma_cmd,'reg': ['0x07', '0x07'],'data_length': 4, 'parse_idx':(0,1), 'mask': 0xFF, 'function': 'int_8bit'},\n",
    "            'bank_status'    : {'d_func': d.read_dma_cmd,'reg': ['0x09', '0x07'],'data_length': 4, 'parse_idx':(0,4), 'mask': 0xFF, 'function': 'read_reg'},\n",
    "            'config_id'      : {'d_func': d.read_dma_cmd,'reg': ['0xc1', '0x00'],'data_length': 4, 'parse_idx':(0,1), 'mask': 0xFF, 'function': 'read_reg'},\n",
    "            'crc'            : {'d_func': d.read_dma_cmd,'reg': ['0x3f', '0x00'],'data_length': 4, 'parse_idx':(0,4), 'mask': 0xFF, 'function': 'rev_reg'},\n",
    "            \n",
    "            'load_FW'               : {'d_func': d.write_smb_cmd,'reg':['0xe6'], 'data': ['0x10','0x00'], 'function': 'write_reg'},\n",
    "            'recomp_OTP_bounds'     : {'d_func': d.write_smb_cmd,'reg':['0xe6'], 'data': ['0x06','0x28'], 'function': 'write_reg'},\n",
    "            'wake_FW'               : {'d_func': d.write_smb_cmd,'reg':['0xe6'], 'data': ['0x03','0x00'], 'function': 'write_reg'},\n",
    "            'apply_project_settings': {'d_func': d.write_smb_cmd,'reg':['0xe7'], 'data': ['0x01','0x00'], 'function': 'write_reg'},\n",
    "            'restart_FW'            : {'d_func': d.write_smb_cmd,'reg':['0xe6'], 'data': ['0x07','0x00'], 'function': 'write_reg'},\n",
    "            'restcfg'               : {'d_func': d.write_smb_cmd,'reg':['0xf2'], 'data': ['0x00'],        'function': 'write_reg'}}\n",
    "\n"
   ]
  },
  {
   "cell_type": "code",
   "execution_count": 4,
   "metadata": {},
   "outputs": [],
   "source": [
    "lines        = file_contents.split('\\n')\n",
    "header       = lines[:5]\n",
    "commands     = lines[5:-2]\n",
    "exec_command = lines[-2]"
   ]
  },
  {
   "cell_type": "code",
   "execution_count": 6,
   "metadata": {},
   "outputs": [],
   "source": [
    "SMB_Add = 0x60"
   ]
  },
  {
   "cell_type": "code",
   "execution_count": 7,
   "metadata": {},
   "outputs": [],
   "source": [
    "#readsmb  - reg, data_length, dev_addr\n",
    "#writesmb - reg, data_length, data, dev_addr  \n",
    "#readdma  - reg,data_length, dev_addr\n",
    "\n",
    "#writedma - reg, data_length=2, data, dev_addr  #same as writesmb?"
   ]
  },
  {
   "cell_type": "code",
   "execution_count": 24,
   "metadata": {},
   "outputs": [],
   "source": [
    "class Command:\n",
    "    def __init__(self,reg_key, dev_addr):\n",
    "        self.dev_addr = dev_addr\n",
    "        self.params = register[reg_key]\n",
    "        self.dfunc       = self.params['d_func']\n",
    "        self.reg         = self.params['reg']\n",
    "        self.functiondict  = {'read_reg'    : self.read_reg,   'rev_reg'  : self.rev_reg, \n",
    "                              'int_8bit'    : self.int_8bit,   'bin32'    : self.bin32, \n",
    "                              'apply_mask'  : self.apply_mask, 'write_reg': self.write_reg}\n",
    "        \n",
    "    def read_reg(self):\n",
    "        a,b = self.params['parse_idx']\n",
    "        return self.dfunc(self.reg,self.params['data_length'],self.dev_addr)[a:b]\n",
    "    \n",
    "    def rev_reg(self):\n",
    "        data = self.read_reg()\n",
    "        data.reverse()\n",
    "        return data\n",
    "    \n",
    "    def int_8bit(self):\n",
    "        data = self.read_reg()\n",
    "        return int(data[0],16)\n",
    "    \n",
    "    def decimal(self,data):\n",
    "        return d.bytearray2decimal(data)\n",
    "        \n",
    "    def bin32(self,data):\n",
    "        pass\n",
    "    \n",
    "    def apply_mask(self,data):\n",
    "        data = self.read_reg()\n",
    "        #convert to integer\n",
    "        return data & self.params['mask']\n",
    "    \n",
    "    def formatted(self):\n",
    "        return self.functiondict[self.params['function']]()\n",
    "    \n",
    "    def write_reg(self):\n",
    "        data = self.params['data']\n",
    "        data_length = len(data)\n",
    "        self.dfunc(self.reg,data_length,data,self.dev_addr)\n",
    "        \n",
    "        \n",
    "    \n",
    "    "
   ]
  },
  {
   "cell_type": "code",
   "execution_count": 9,
   "metadata": {},
   "outputs": [],
   "source": [
    "a = Command('device_ID',SMB_Add)"
   ]
  },
  {
   "cell_type": "code",
   "execution_count": 10,
   "metadata": {},
   "outputs": [
    {
     "name": "stdout",
     "output_type": "stream",
     "text": [
      "['0x55']\n"
     ]
    }
   ],
   "source": [
    "b=a.formatted() #rw_reg()#decimal(a.rw_reg()) #mask #apply_mask(a.int_8bit(a.rw_reg()))\n",
    "print(b)"
   ]
  },
  {
   "cell_type": "code",
   "execution_count": 11,
   "metadata": {},
   "outputs": [],
   "source": [
    "def parse_line(line,position_tuple):\n",
    "    start, stop = position_tuple\n",
    "    return line[start:stop]\n",
    "\n",
    "def is_header(line):\n",
    "    return parse_line(line,header_dict['type']) == '49'\n",
    "\n",
    "def data_2_list(data):\n",
    "    datalist = [data[i:i+2] for i in range(0, len(data), 2)]\n",
    "    datalist.reverse()\n",
    "    return datalist\n",
    "\n",
    "def check_ID():\n",
    "    file_id = parse_line(header[0],header_dict['IDdata'])[4:6]\n",
    "    ic_id = Command('device_ID',SMB_Add).formatted()[0][2:4]\n",
    "    return file_id==ic_id\n",
    "\n",
    "def check_REV(config_or_firmware = 'config'):\n",
    "    def element_cmp(a,b):\n",
    "        a,b = int(a,16), int(b,16)\n",
    "        return a == b \n",
    "    def cmp(a,b):\n",
    "        result = [element_cmp(i,j) for i,j in zip(a,b)]\n",
    "        if config_or_firmware == 'config':\n",
    "            result[3] = a > b\n",
    "        else:\n",
    "            result[3] = a == b\n",
    "        return all(result)\n",
    "    file_rev = parse_line(header[1],header_dict['IDdata'])\n",
    "    file_rev = [file_rev[i:i+2] for i in range(0, len(file_rev), 2)]\n",
    "    ic_rev = Command('revision',SMB_Add).formatted()\n",
    "    return ic_rev #cmp(ic_rev,file_rev)\n",
    "  \n",
    "\n",
    "\n",
    "class Cmdline:\n",
    "    def __init__(self,line):\n",
    "        #self.numbytes = int(line[2:4],16)\n",
    "        self.pmbaddr  = hex(int(line[4:6],16)>>1)\n",
    "        self.cmd      = line[6:8]\n",
    "        self.data = data_2_list(line[8:-2]) \n",
    "        self.data.reverse()\n",
    "        \n",
    "    def write(self):\n",
    "        d.write_smb_cmd(int(self.cmd,16),len(self.data),self.data,int(self.pmbaddr,16)) \n",
    "\n",
    "\n",
    "    \n",
    "def load_commands(commandlist):\n",
    "    for line in commandlist:\n",
    "        command=Cmdline(line)\n",
    "        command.write()\n",
    "        time.sleep(.02)\n",
    "        \n",
    "def write_to_OTP(lastline):\n",
    "    command=Cmdline(lastline)\n",
    "    command.write()\n",
    "    \n",
    "\n",
    "    \n",
    "\n",
    "    \n",
    "class Enable:\n",
    "    def __init__(self):\n",
    "        pass #self.on_state = d.read_smb_cmd(0x01,1,SMB_Add)\n",
    "        \n",
    "    def on(self):\n",
    "        d.write_smb_cmd(0x01,1,['0x80'],SMB_Add)\n",
    "        time.sleep(0.25)\n",
    "        state = d.read_smb_cmd(0x01,1,SMB_Add)\n",
    "        print(state)\n",
    "    \n",
    "    def off(self):\n",
    "        d.write_smb_cmd(0x01,1,['0x00'],SMB_Add)\n",
    "        time.sleep(0.25)\n",
    "        state = d.read_smb_cmd(0x01,1,SMB_Add)\n",
    "        print(state)\n",
    "    \n",
    "    def status(self):\n",
    "        return d.read_smb_cmd(0x01,1,SMB_Add)\n",
    "\n",
    "\n",
    "\n",
    "    "
   ]
  },
  {
   "cell_type": "code",
   "execution_count": 15,
   "metadata": {},
   "outputs": [
    {
     "data": {
      "text/plain": [
       "['0x2', '0x0', '0x0', '0x4']"
      ]
     },
     "execution_count": 15,
     "metadata": {},
     "output_type": "execute_result"
    }
   ],
   "source": [
    "check_REV()"
   ]
  },
  {
   "cell_type": "code",
   "execution_count": 16,
   "metadata": {},
   "outputs": [
    {
     "data": {
      "text/plain": [
       "23"
      ]
     },
     "execution_count": 16,
     "metadata": {},
     "output_type": "execute_result"
    }
   ],
   "source": [
    "Command('avail_NVM_slots',SMB_Add).formatted()"
   ]
  },
  {
   "cell_type": "code",
   "execution_count": 17,
   "metadata": {},
   "outputs": [
    {
     "data": {
      "text/plain": [
       "True"
      ]
     },
     "execution_count": 17,
     "metadata": {},
     "output_type": "execute_result"
    }
   ],
   "source": [
    "check_ID()"
   ]
  },
  {
   "cell_type": "code",
   "execution_count": 18,
   "metadata": {},
   "outputs": [],
   "source": [
    "load_commands(commands)"
   ]
  },
  {
   "cell_type": "code",
   "execution_count": 19,
   "metadata": {},
   "outputs": [],
   "source": [
    "write_to_OTP(exec_command)"
   ]
  },
  {
   "cell_type": "code",
   "execution_count": 20,
   "metadata": {},
   "outputs": [
    {
     "data": {
      "text/plain": [
       "1"
      ]
     },
     "execution_count": 20,
     "metadata": {},
     "output_type": "execute_result"
    }
   ],
   "source": [
    "Command('prog_status',SMB_Add).formatted()"
   ]
  },
  {
   "cell_type": "code",
   "execution_count": 22,
   "metadata": {},
   "outputs": [
    {
     "data": {
      "text/plain": [
       "['0x1', '0x0', '0x0', '0x0']"
      ]
     },
     "execution_count": 22,
     "metadata": {},
     "output_type": "execute_result"
    }
   ],
   "source": [
    "Command('bank_status',SMB_Add).formatted()"
   ]
  },
  {
   "cell_type": "code",
   "execution_count": 26,
   "metadata": {},
   "outputs": [],
   "source": [
    "Command('load_FW',SMB_Add).write_reg()"
   ]
  },
  {
   "cell_type": "code",
   "execution_count": 29,
   "metadata": {},
   "outputs": [],
   "source": [
    "Command('recomp_OTP_bounds',SMB_Add).write_reg()\n"
   ]
  },
  {
   "cell_type": "code",
   "execution_count": 30,
   "metadata": {},
   "outputs": [],
   "source": [
    "Command('wake_FW',SMB_Add).write_reg()"
   ]
  },
  {
   "cell_type": "code",
   "execution_count": 31,
   "metadata": {},
   "outputs": [
    {
     "name": "stdout",
     "output_type": "stream",
     "text": [
      "0x0\n"
     ]
    }
   ],
   "source": [
    "id = Command('config_id',SMB_Add).formatted()[0]\n",
    "print(id)"
   ]
  },
  {
   "cell_type": "code",
   "execution_count": 32,
   "metadata": {},
   "outputs": [],
   "source": [
    "Command('restcfg',SMB_Add).write_reg()"
   ]
  },
  {
   "cell_type": "code",
   "execution_count": 33,
   "metadata": {},
   "outputs": [
    {
     "data": {
      "text/plain": [
       "22"
      ]
     },
     "execution_count": 33,
     "metadata": {},
     "output_type": "execute_result"
    }
   ],
   "source": [
    "Command('avail_NVM_slots',SMB_Add).formatted()"
   ]
  },
  {
   "cell_type": "code",
   "execution_count": 34,
   "metadata": {},
   "outputs": [
    {
     "data": {
      "text/plain": [
       "['0x39', '0xc9', '0x4d', '0x13']"
      ]
     },
     "execution_count": 34,
     "metadata": {},
     "output_type": "execute_result"
    }
   ],
   "source": [
    "Command('crc',SMB_Add).formatted()"
   ]
  },
  {
   "cell_type": "code",
   "execution_count": 35,
   "metadata": {},
   "outputs": [],
   "source": [
    "enable_pin=Enable()"
   ]
  },
  {
   "cell_type": "code",
   "execution_count": 36,
   "metadata": {},
   "outputs": [
    {
     "name": "stdout",
     "output_type": "stream",
     "text": [
      "['0x80']\n"
     ]
    }
   ],
   "source": [
    "enable_pin.on()"
   ]
  },
  {
   "cell_type": "code",
   "execution_count": null,
   "metadata": {},
   "outputs": [],
   "source": []
  }
 ],
 "metadata": {
  "kernelspec": {
   "display_name": "Python 3",
   "language": "python",
   "name": "python3"
  },
  "language_info": {
   "codemirror_mode": {
    "name": "ipython",
    "version": 3
   },
   "file_extension": ".py",
   "mimetype": "text/x-python",
   "name": "python",
   "nbconvert_exporter": "python",
   "pygments_lexer": "ipython3",
   "version": "3.8.5"
  }
 },
 "nbformat": 4,
 "nbformat_minor": 4
}
