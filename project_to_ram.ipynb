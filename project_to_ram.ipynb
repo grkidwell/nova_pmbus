{
 "cells": [
  {
   "cell_type": "code",
   "execution_count": 1,
   "metadata": {},
   "outputs": [],
   "source": [
    "import lib.nova_lib as nova\n"
   ]
  },
  {
   "cell_type": "code",
   "execution_count": 2,
   "metadata": {},
   "outputs": [],
   "source": [
    "SMB_Add = 0x60"
   ]
  },
  {
   "cell_type": "code",
   "execution_count": 3,
   "metadata": {},
   "outputs": [],
   "source": [
    "filename = 'diff_file_ab.txt'\n",
    "#filename = 'sample_files/ISL69269-0 0x60a.txt'"
   ]
  },
  {
   "cell_type": "code",
   "execution_count": 4,
   "metadata": {},
   "outputs": [],
   "source": [
    "class inputfile:\n",
    "    def __init__(self,filename):\n",
    "        try:\n",
    "            with open(filename) as file:\n",
    "                file_contents = file.read()\n",
    "        except:\n",
    "            sys.exit(\"enter valid filename into variable 'patchfilename' and rerun program\")\n",
    "        self.commands = file_contents.split('\\n')[9:-1]"
   ]
  },
  {
   "cell_type": "code",
   "execution_count": 5,
   "metadata": {},
   "outputs": [
    {
     "data": {
      "text/plain": [
       "['rGUI5                              0xA1A17E61            # 0x003F',\n",
       " 'PAGE                               0x00                  # 0x0',\n",
       " 'droop                              0x00E6                # 0x28',\n",
       " 'rampCompBulkA0                     0x00002407            # 0xEA2C']"
      ]
     },
     "execution_count": 5,
     "metadata": {},
     "output_type": "execute_result"
    }
   ],
   "source": [
    "commands=inputfile(filename).commands\n",
    "commands"
   ]
  },
  {
   "cell_type": "code",
   "execution_count": 6,
   "metadata": {},
   "outputs": [],
   "source": [
    "nova.set_page(0,SMB_Add)\n",
    "onoff=nova.Enable()\n",
    "onoff.off()"
   ]
  },
  {
   "cell_type": "code",
   "execution_count": 7,
   "metadata": {},
   "outputs": [],
   "source": [
    "\n",
    "nova.load_config_commands(commands,SMB_Add)\n"
   ]
  },
  {
   "cell_type": "code",
   "execution_count": 8,
   "metadata": {},
   "outputs": [],
   "source": [
    "nova.Command('apply_project_settings',SMB_Add).write_reg()"
   ]
  },
  {
   "cell_type": "code",
   "execution_count": 9,
   "metadata": {},
   "outputs": [],
   "source": [
    "nova.set_page(0,SMB_Add)"
   ]
  },
  {
   "cell_type": "code",
   "execution_count": 11,
   "metadata": {},
   "outputs": [],
   "source": [
    "onoff.off()"
   ]
  },
  {
   "cell_type": "code",
   "execution_count": null,
   "metadata": {},
   "outputs": [],
   "source": []
  }
 ],
 "metadata": {
  "kernelspec": {
   "display_name": "Python 3",
   "language": "python",
   "name": "python3"
  },
  "language_info": {
   "codemirror_mode": {
    "name": "ipython",
    "version": 3
   },
   "file_extension": ".py",
   "mimetype": "text/x-python",
   "name": "python",
   "nbconvert_exporter": "python",
   "pygments_lexer": "ipython3",
   "version": "3.8.5"
  }
 },
 "nbformat": 4,
 "nbformat_minor": 4
}
