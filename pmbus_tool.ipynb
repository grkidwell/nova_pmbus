{
 "cells": [
  {
   "cell_type": "code",
   "execution_count": 1,
   "metadata": {},
   "outputs": [],
   "source": [
    "import lib.dongle_cmds as d\n",
    "import time"
   ]
  },
  {
   "cell_type": "code",
   "execution_count": 2,
   "metadata": {},
   "outputs": [],
   "source": [
    "SMB_Add = 0x60 #int('60',16)"
   ]
  },
  {
   "cell_type": "code",
   "execution_count": 20,
   "metadata": {},
   "outputs": [
    {
     "name": "stdout",
     "output_type": "stream",
     "text": [
      "['0x61', '0x7e', '0xa1', '0xa1']\n"
     ]
    }
   ],
   "source": [
    "reg  = ['0x3f','0x00']\n",
    "data = d.read_dma_cmd(reg,4,SMB_Add)#[3]\n",
    "print(data)"
   ]
  },
  {
   "cell_type": "code",
   "execution_count": 9,
   "metadata": {},
   "outputs": [
    {
     "name": "stdout",
     "output_type": "stream",
     "text": [
      "['0x96', '0x0', '0x0', '0x0']\n"
     ]
    }
   ],
   "source": [
    "reg  = ['3f', '00'] #['0x89','0xe5']\n",
    "reg = ['0x21','0xe4']\n",
    "data = ['0x96', '0x0', '0x0', '0x0']\n",
    "\n",
    "d.write_dma_cmd(reg,4,data,SMB_Add)\n",
    "data = d.read_dma_cmd(reg,4,SMB_Add)\n",
    "print(data)"
   ]
  },
  {
   "cell_type": "code",
   "execution_count": 23,
   "metadata": {},
   "outputs": [
    {
     "name": "stdout",
     "output_type": "stream",
     "text": [
      "['0x0']\n"
     ]
    }
   ],
   "source": [
    "reg  = ['0x00']\n",
    "data = d.read_smb_cmd(reg,1,SMB_Add)\n",
    "print(data)"
   ]
  },
  {
   "cell_type": "code",
   "execution_count": 11,
   "metadata": {},
   "outputs": [
    {
     "name": "stdout",
     "output_type": "stream",
     "text": [
      "['0x0']\n"
     ]
    }
   ],
   "source": [
    "reg    = ['0x01']\n",
    "data   = ['0x00'] #['0x01','0x00'] #['0xE2','0x04']\n",
    "length = len(data)\n",
    "d.write_smb_cmd(reg,length,data,SMB_Add)\n",
    "data   = d.read_smb_cmd(reg,length,SMB_Add)\n",
    "print(data)"
   ]
  },
  {
   "cell_type": "code",
   "execution_count": 13,
   "metadata": {},
   "outputs": [
    {
     "name": "stdout",
     "output_type": "stream",
     "text": [
      "['0x0']\n"
     ]
    }
   ],
   "source": [
    "reg    = ['0x00']\n",
    "data   = ['0x00'] #['0xE2','0x04']\n",
    "length = len(data)\n",
    "d.write_smb_cmd(reg,length,data,SMB_Add)\n",
    "data   = d.read_smb_cmd(reg,length,SMB_Add)\n",
    "print(data)"
   ]
  },
  {
   "cell_type": "code",
   "execution_count": 13,
   "metadata": {},
   "outputs": [
    {
     "name": "stdout",
     "output_type": "stream",
     "text": [
      "2\n"
     ]
    }
   ],
   "source": [
    "ans = d.bytearray2mv(data)\n",
    "print(ans)"
   ]
  },
  {
   "cell_type": "code",
   "execution_count": 14,
   "metadata": {},
   "outputs": [
    {
     "data": {
      "text/plain": [
       "['0x2', '0x0']"
      ]
     },
     "execution_count": 14,
     "metadata": {},
     "output_type": "execute_result"
    }
   ],
   "source": [
    "d.mv2bytearray(ans)"
   ]
  },
  {
   "cell_type": "code",
   "execution_count": null,
   "metadata": {},
   "outputs": [],
   "source": []
  }
 ],
 "metadata": {
  "kernelspec": {
   "display_name": "Python 3",
   "language": "python",
   "name": "python3"
  },
  "language_info": {
   "codemirror_mode": {
    "name": "ipython",
    "version": 3
   },
   "file_extension": ".py",
   "mimetype": "text/x-python",
   "name": "python",
   "nbconvert_exporter": "python",
   "pygments_lexer": "ipython3",
   "version": "3.8.5"
  }
 },
 "nbformat": 4,
 "nbformat_minor": 4
}
