{
 "cells": [
  {
   "cell_type": "code",
   "execution_count": 19,
   "metadata": {},
   "outputs": [],
   "source": [
    "import lib.dongle_cmds as d\n",
    "import time"
   ]
  },
  {
   "cell_type": "code",
   "execution_count": 20,
   "metadata": {},
   "outputs": [],
   "source": [
    "SMB_Add = 0x60 #int('60',16)"
   ]
  },
  {
   "cell_type": "code",
   "execution_count": 24,
   "metadata": {},
   "outputs": [
    {
     "name": "stdout",
     "output_type": "stream",
     "text": [
      "0x0\n"
     ]
    }
   ],
   "source": [
    "reg  = ['0xda','0x00']\n",
    "data = d.read_dma_cmd(reg,4,SMB_Add)[3]\n",
    "print(data)"
   ]
  },
  {
   "cell_type": "code",
   "execution_count": 10,
   "metadata": {},
   "outputs": [
    {
     "name": "stdout",
     "output_type": "stream",
     "text": [
      "['0x8', '0x24', '0x0', '0x0']\n"
     ]
    }
   ],
   "source": [
    "reg  = ['0x2c','0xea']\n",
    "data = ['0x8', '0x24', '0x0', '0x0']\n",
    "\n",
    "d.write_dma_cmd(reg,data,4,SMB_Add)\n",
    "data = d.read_dma_cmd(reg,4,SMB_Add)\n",
    "print(data)"
   ]
  },
  {
   "cell_type": "code",
   "execution_count": 11,
   "metadata": {},
   "outputs": [
    {
     "name": "stdout",
     "output_type": "stream",
     "text": [
      "['0xdc', '0x5']\n"
     ]
    }
   ],
   "source": [
    "reg  = ['0x46']\n",
    "data = d.read_smb_cmd(reg,2,SMB_Add)\n",
    "print(data)"
   ]
  },
  {
   "cell_type": "code",
   "execution_count": 14,
   "metadata": {},
   "outputs": [
    {
     "name": "stdout",
     "output_type": "stream",
     "text": [
      "['0xe2', '0x4']\n"
     ]
    }
   ],
   "source": [
    "reg    = ['0xea']\n",
    "data   = ['0xE2','0x04']\n",
    "length = len(data)\n",
    "d.write_smb_cmd(reg,length,data,SMB_Add)\n",
    "data   = d.read_smb_cmd(reg,length,SMB_Add)\n",
    "print(data)"
   ]
  },
  {
   "cell_type": "code",
   "execution_count": 25,
   "metadata": {},
   "outputs": [],
   "source": [
    "reg    = ['0xe6']\n",
    "data   = ['0x02','0x00']\n",
    "length = len(data)\n",
    "d.write_smb_cmd(reg,length,data,SMB_Add)"
   ]
  },
  {
   "cell_type": "code",
   "execution_count": 17,
   "metadata": {},
   "outputs": [
    {
     "name": "stdout",
     "output_type": "stream",
     "text": [
      "1250\n"
     ]
    }
   ],
   "source": [
    "ans = d.bytearray2mv(data)\n",
    "print(ans)"
   ]
  },
  {
   "cell_type": "code",
   "execution_count": 18,
   "metadata": {},
   "outputs": [
    {
     "data": {
      "text/plain": [
       "['0xe2', '0x4']"
      ]
     },
     "execution_count": 18,
     "metadata": {},
     "output_type": "execute_result"
    }
   ],
   "source": [
    "d.mv2bytearray(ans)"
   ]
  },
  {
   "cell_type": "code",
   "execution_count": null,
   "metadata": {},
   "outputs": [],
   "source": []
  }
 ],
 "metadata": {
  "kernelspec": {
   "display_name": "Python 3",
   "language": "python",
   "name": "python3"
  },
  "language_info": {
   "codemirror_mode": {
    "name": "ipython",
    "version": 3
   },
   "file_extension": ".py",
   "mimetype": "text/x-python",
   "name": "python",
   "nbconvert_exporter": "python",
   "pygments_lexer": "ipython3",
   "version": "3.8.5"
  }
 },
 "nbformat": 4,
 "nbformat_minor": 4
}
