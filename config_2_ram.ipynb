{
 "cells": [
  {
   "cell_type": "code",
   "execution_count": 2,
   "metadata": {},
   "outputs": [],
   "source": [
    "import lib.dongle_cmds as d\n",
    "import time"
   ]
  },
  {
   "cell_type": "code",
   "execution_count": 2,
   "metadata": {},
   "outputs": [],
   "source": [
    "with open('ISL69269-0 0x60g.txt') as file:\n",
    "    file_contents = file.read()"
   ]
  },
  {
   "cell_type": "code",
   "execution_count": 3,
   "metadata": {},
   "outputs": [],
   "source": [
    "register = {'avail_NVM_slots': {'d_func': d.read_dma_cmd,'reg': ['0xc2', '0x00'],'data_length': 4, 'parse_idx':(0,1), 'mask': 0xFF, 'function': 'int_8bit'},\n",
    "            'device_ID'      : {'d_func': d.read_smb_cmd,'reg': ['0xad'],        'data_length': 4, 'parse_idx':(2,3), 'mask': 0xFF, 'function': 'read_reg'},\n",
    "            'revision'       : {'d_func': d.read_smb_cmd,'reg': ['0xae'],        'data_length': 5, 'parse_idx':(1,5), 'mask': 0xFF, 'function': 'rev_reg'},\n",
    "            'prog_status'    : {'d_func': d.read_dma_cmd,'reg': ['0x07', '0x07'],'data_length': 4, 'parse_idx':(0,1), 'mask': 0xFF, 'function': 'int_8bit'},\n",
    "            'bank_status'    : {'d_func': d.read_dma_cmd,'reg': ['0x09', '0x07'],'data_length': 4, 'parse_idx':(0,4), 'mask': 0xFF, 'function': 'read_reg'},\n",
    "            'config_id'      : {'d_func': d.read_dma_cmd,'reg': ['0xc1', '0x00'],'data_length': 4, 'parse_idx':(0,1), 'mask': 0xFF, 'function': 'read_reg'},\n",
    "            'crc'            : {'d_func': d.read_dma_cmd,'reg': ['0x3f', '0x00'],'data_length': 4, 'parse_idx':(0,4), 'mask': 0xFF, 'function': 'rev_reg'},\n",
    "            \n",
    "            'load_FW'               : {'d_func': d.write_smb_cmd,'reg':['0xe6'], 'data': ['0x10','0x00'], 'function': 'write_reg'},\n",
    "            'recomp_OTP_bounds'     : {'d_func': d.write_smb_cmd,'reg':['0xe6'], 'data': ['0x06','0x28'], 'function': 'write_reg'},\n",
    "            'wake_FW'               : {'d_func': d.write_smb_cmd,'reg':['0xe6'], 'data': ['0x03','0x00'], 'function': 'write_reg'},\n",
    "            'apply_project_settings': {'d_func': d.write_smb_cmd,'reg':['0xe7'], 'data': ['0x01','0x00'], 'function': 'write_reg'},\n",
    "            'restart_FW'            : {'d_func': d.write_smb_cmd,'reg':['0xe6'], 'data': ['0x07','0x00'], 'function': 'write_reg'},\n",
    "            'restcfg'               : {'d_func': d.write_smb_cmd,'reg':['0xf2'], 'data': ['0x00'],        'function': 'write_reg'},\n",
    "            \n",
    "            'fw_revision'    : {'d_func': d.read_dma_cmd,'reg': ['0xc3', '0x00'],'data_length': 5, 'parse_idx':(0,5), 'mask': 0xFF, 'function': 'rev_reg'},\n",
    "            \n",
    "           \n",
    "            'halt_FW'               : {'d_func': d.write_smb_cmd,'reg':['0xe6'], 'data': ['0x02','0x00'], 'function': 'write_reg'},\n",
    "            'commit_patch_data'     : {'d_func': d.write_smb_cmd,'reg':['0xe6'], 'data': ['0x0f','0x00'], 'function': 'write_reg'},\n",
    "            'patch_status'   : {'d_func': d.read_dma_cmd,'reg': ['0xda', '0x00'],'data_length': 4, 'parse_idx':(3,4), 'mask': 0x10, 'function': 'read_reg'}}\n",
    "\n"
   ]
  },
  {
   "cell_type": "code",
   "execution_count": 4,
   "metadata": {},
   "outputs": [],
   "source": [
    "lines        = file_contents.split('\\n')\n",
    "header       = lines[:6]\n",
    "crc          = lines[7]\n",
    "commands     = lines[9:-1]"
   ]
  },
  {
   "cell_type": "code",
   "execution_count": 5,
   "metadata": {},
   "outputs": [],
   "source": [
    "SMB_Add = 0x60"
   ]
  },
  {
   "cell_type": "code",
   "execution_count": 7,
   "metadata": {},
   "outputs": [],
   "source": [
    "#readsmb  - reg, data_length, dev_addr\n",
    "#writesmb - reg, data_length, data, dev_addr  \n",
    "#readdma  - reg,data_length, dev_addr\n",
    "\n",
    "#writedma - reg, data_length=2, data, dev_addr  #same as writesmb?"
   ]
  },
  {
   "cell_type": "code",
   "execution_count": 8,
   "metadata": {},
   "outputs": [],
   "source": [
    "class Command:\n",
    "    def __init__(self,reg_key, dev_addr):\n",
    "        self.dev_addr = dev_addr\n",
    "        self.params = register[reg_key]\n",
    "        self.dfunc       = self.params['d_func']\n",
    "        self.reg         = self.params['reg']\n",
    "        self.functiondict  = {'read_reg'    : self.read_reg,   'rev_reg'  : self.rev_reg, \n",
    "                              'int_8bit'    : self.int_8bit,   'bin32'    : self.bin32, \n",
    "                              'apply_mask'  : self.apply_mask, 'write_reg': self.write_reg}\n",
    "        \n",
    "    def read_reg(self):\n",
    "        a,b = self.params['parse_idx']\n",
    "        return self.dfunc(self.reg,self.params['data_length'],self.dev_addr)[a:b]\n",
    "    \n",
    "    def rev_reg(self):\n",
    "        data = self.read_reg()\n",
    "        data.reverse()\n",
    "        return data\n",
    "    \n",
    "    def int_8bit(self):\n",
    "        data = self.read_reg()\n",
    "        return int(data[0],16)\n",
    "    \n",
    "    def decimal(self,data):\n",
    "        return d.bytearray2decimal(data)\n",
    "        \n",
    "    def bin32(self,data):\n",
    "        pass\n",
    "    \n",
    "    def apply_mask(self):\n",
    "        data = self.read_reg() #int_8bit()\n",
    "        #convert to integer\n",
    "        return data #& self.params['mask']\n",
    "    \n",
    "    def formatted(self):\n",
    "        return self.functiondict[self.params['function']]()\n",
    "    \n",
    "    def write_reg(self):\n",
    "        data = self.params['data']\n",
    "        data_length = len(data)\n",
    "        self.dfunc(self.reg,data_length,data,self.dev_addr)\n",
    "        \n",
    "        \n",
    "    \n",
    "    "
   ]
  },
  {
   "cell_type": "code",
   "execution_count": 9,
   "metadata": {},
   "outputs": [],
   "source": [
    "def parse_line(line,position_tuple):\n",
    "    start, stop = position_tuple\n",
    "    return line[start:stop]\n",
    "\n",
    "def is_header(line):\n",
    "    return parse_line(line,header_dict['type']) == '49'\n",
    "\n",
    "def data_2_list(data):\n",
    "    datalist = [data[i:i+2] for i in range(0, len(data), 2)]\n",
    "    datalist.reverse()\n",
    "    return datalist\n",
    "\n",
    "def check_ID():\n",
    "    file_id = parse_line(header[0],header_dict['IDdata'])[4:6]\n",
    "    ic_id = Command('device_ID',SMB_Add).formatted()[0][2:4]\n",
    "    return file_id==ic_id\n",
    "\n",
    "def check_REV(config_or_firmware = 'config'):\n",
    "    def element_cmp(a,b):\n",
    "        a,b = int(a,16), int(b,16)\n",
    "        return a == b \n",
    "    def cmp(a,b):\n",
    "        result = [element_cmp(i,j) for i,j in zip(a,b)]\n",
    "        if config_or_firmware == 'config':\n",
    "            result[3] = a > b\n",
    "        else:\n",
    "            result[3] = a == b\n",
    "        return all(result)\n",
    "    file_rev = parse_line(header[1],header_dict['IDdata'])\n",
    "    file_rev = [file_rev[i:i+2] for i in range(0, len(file_rev), 2)]\n",
    "    ic_rev = Command('revision',SMB_Add).formatted()\n",
    "    return ic_rev #cmp(ic_rev,file_rev)\n",
    "  \n",
    "\n",
    "#hex file commandline contains single byte PMBus write to C6, C7 or E6\n",
    "class Cmdline:\n",
    "    def __init__(self,line):\n",
    "        #self.numbytes = int(line[2:4],16)\n",
    "        self.pmbaddr  = hex(int(line[4:6],16)>>1)\n",
    "        self.cmd      = line[6:8]\n",
    "        self.data = data_2_list(line[8:-2]) \n",
    "        self.data.reverse()\n",
    "        \n",
    "    def write(self):\n",
    "        d.write_smb_cmd(int(self.cmd,16),len(self.data),self.data,int(self.pmbaddr,16)) \n",
    "\n",
    "class FWcmdline:\n",
    "    def __init__(self,line):\n",
    "        self.pmbaddr = SMB_Add\n",
    "        self.cmd = line[2:4]\n",
    "        self.data = data_2_list(line[5:]) \n",
    "        #self.data.reverse()\n",
    "        if self.cmd == 'c7':\n",
    "            self.data = self.data[0:2]\n",
    "        \n",
    "    def write(self):\n",
    "        d.write_smb_cmd(int(self.cmd,16),len(self.data),self.data,self.pmbaddr)\n",
    "        \n",
    "class Config_cmdline:\n",
    "    def __init__(self,line,dev_addr):\n",
    "        self.line = line\n",
    "        self.pmbaddr = dev_addr\n",
    "        self.descr = self.line[:20].rstrip()\n",
    "        self.reg  = data_2_list(self.line[61:].rstrip())\n",
    "        self.data = data_2_list(self.line[37:47].rstrip())\n",
    "        self.add_leading_0byte_if_r()  \n",
    "        \n",
    "    def add_leading_0byte_if_r(self):\n",
    "        if self.descr[0] == 'r' and len(self.reg)==1:\n",
    "            self.reg.append('00') #is trailing since has been reversed by data_to_list()\n",
    "        \n",
    "    def write(self):\n",
    "        if len(self.reg) ==2:\n",
    "            d.write_dma_cmd(self.reg,len(self.data),self.data,self.pmbaddr)\n",
    "        else:\n",
    "            d.write_smb_cmd(self.reg,len(self.data),self.data,self.pmbaddr)\n",
    "    \n",
    "def load_commands(commandlist):\n",
    "    for line in commandlist:\n",
    "        command=Cmdline(line)\n",
    "        command.write()\n",
    "        time.sleep(.02)\n",
    "        \n",
    "        \n",
    "def load_fw_commands(commandlist):\n",
    "    for line in commandlist:\n",
    "        command=FWcmdline(line)\n",
    "        command.write()\n",
    "        time.sleep(.01)       \n",
    "            \n",
    "def load_config_commands(commandlist):\n",
    "    for line in commandlist:\n",
    "        command=Config_cmdline(line,SMB_Add)\n",
    "        #command.data.reverse()\n",
    "        try:\n",
    "            command.write()\n",
    "        except:\n",
    "            print(line)\n",
    "        time.sleep(.005) \n",
    "        \n",
    "def print_config_commands(commandlist):\n",
    "    for line in commandlist:\n",
    "        command=Config_cmdline(line,SMB_Add)\n",
    "        print(f'{command.descr:<20} {command.reg}   {command.data}')\n",
    "        \n",
    "def find_r_reg(commandlist):\n",
    "    for line in commandlist:\n",
    "        command=Config_cmdline(line,SMB_Add)\n",
    "        if len(command.reg)==1 and command.descr[0]=='r':\n",
    "            print(f'{command.descr:<20} {command.reg}   {command.data}')\n",
    "            \n",
    "def write_to_OTP(lastline):\n",
    "    command=Cmdline(lastline)\n",
    "    command.write()\n",
    "    \n",
    "\n",
    "    \n",
    "\n",
    "    \n",
    "class Enable:\n",
    "    def __init__(self):\n",
    "        pass #self.on_state = d.read_smb_cmd(0x01,1,SMB_Add)\n",
    "        \n",
    "    def on(self):\n",
    "        d.write_smb_cmd(0x01,1,['0x80'],SMB_Add)\n",
    "        time.sleep(0.25)\n",
    "        state = d.read_smb_cmd(0x01,1,SMB_Add)\n",
    "        print(state)\n",
    "    \n",
    "    def off(self):\n",
    "        d.write_smb_cmd(0x01,1,['0x00'],SMB_Add)\n",
    "        time.sleep(0.25)\n",
    "        state = d.read_smb_cmd(0x01,1,SMB_Add)\n",
    "        print(state)\n",
    "    \n",
    "    def status(self):\n",
    "        return d.read_smb_cmd(0x01,1,SMB_Add)\n",
    "\n",
    "\n",
    "\n",
    "    "
   ]
  },
  {
   "cell_type": "code",
   "execution_count": 10,
   "metadata": {},
   "outputs": [
    {
     "name": "stdout",
     "output_type": "stream",
     "text": [
      "DEV READ ERR\n",
      "[1, 5, 0, 80, 0, 0, 0, 0, 0, 0, 0, 0, 0, 0, 0, 0, 0, 0, 0, 0, 0, 0, 0, 0, 0, 0, 0, 0, 0, 0, 0, 0, 0, 0, 0, 0, 0, 0, 0, 0, 0, 0, 0, 0, 0, 0, 0, 0, 0, 0, 0, 0, 0, 0, 0, 0, 0, 0, 0, 0, 0, 0, 0, 0]\n"
     ]
    }
   ],
   "source": [
    "\n",
    "load_config_commands(commands)\n"
   ]
  },
  {
   "cell_type": "code",
   "execution_count": 11,
   "metadata": {},
   "outputs": [],
   "source": [
    "Command('apply_project_settings',SMB_Add).write_reg()"
   ]
  },
  {
   "cell_type": "code",
   "execution_count": 12,
   "metadata": {},
   "outputs": [],
   "source": [
    "d.write_smb_cmd(['0x00'],1,['0x00'],SMB_Add)"
   ]
  },
  {
   "cell_type": "code",
   "execution_count": 14,
   "metadata": {},
   "outputs": [
    {
     "ename": "NameError",
     "evalue": "name 'Enable' is not defined",
     "output_type": "error",
     "traceback": [
      "\u001b[1;31m---------------------------------------------------------------------------\u001b[0m",
      "\u001b[1;31mNameError\u001b[0m                                 Traceback (most recent call last)",
      "\u001b[1;32m<ipython-input-14-2da8cf2a017b>\u001b[0m in \u001b[0;36m<module>\u001b[1;34m\u001b[0m\n\u001b[1;32m----> 1\u001b[1;33m \u001b[0monoff\u001b[0m\u001b[1;33m=\u001b[0m\u001b[0mEnable\u001b[0m\u001b[1;33m(\u001b[0m\u001b[1;33m)\u001b[0m\u001b[1;33m\u001b[0m\u001b[1;33m\u001b[0m\u001b[0m\n\u001b[0m",
      "\u001b[1;31mNameError\u001b[0m: name 'Enable' is not defined"
     ]
    }
   ],
   "source": [
    "onoff=Enable()"
   ]
  },
  {
   "cell_type": "code",
   "execution_count": 14,
   "metadata": {},
   "outputs": [
    {
     "name": "stdout",
     "output_type": "stream",
     "text": [
      "['0x80']\n"
     ]
    }
   ],
   "source": [
    "onoff.on()"
   ]
  },
  {
   "cell_type": "code",
   "execution_count": 12,
   "metadata": {},
   "outputs": [],
   "source": [
    "page=1\n",
    "value=[hex(1)] #duh=list(((page).to_bytes(1,byteorder='little')))\n",
    "#hex(duh[0])"
   ]
  },
  {
   "cell_type": "code",
   "execution_count": 13,
   "metadata": {},
   "outputs": [
    {
     "data": {
      "text/plain": [
       "['0x1']"
      ]
     },
     "execution_count": 13,
     "metadata": {},
     "output_type": "execute_result"
    }
   ],
   "source": [
    "value"
   ]
  },
  {
   "cell_type": "code",
   "execution_count": null,
   "metadata": {},
   "outputs": [],
   "source": []
  }
 ],
 "metadata": {
  "kernelspec": {
   "display_name": "Python 3",
   "language": "python",
   "name": "python3"
  },
  "language_info": {
   "codemirror_mode": {
    "name": "ipython",
    "version": 3
   },
   "file_extension": ".py",
   "mimetype": "text/x-python",
   "name": "python",
   "nbconvert_exporter": "python",
   "pygments_lexer": "ipython3",
   "version": "3.8.5"
  }
 },
 "nbformat": 4,
 "nbformat_minor": 4
}
