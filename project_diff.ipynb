{
 "cells": [
  {
   "cell_type": "code",
   "execution_count": 1,
   "metadata": {},
   "outputs": [],
   "source": [
    "import pandas as pd\n",
    "from datetime import datetime"
   ]
  },
  {
   "cell_type": "code",
   "execution_count": 2,
   "metadata": {},
   "outputs": [],
   "source": [
    "class Config_cmdline:\n",
    "    def __init__(self,line):\n",
    "        self.line = line\n",
    "        self.name = self.line[:20].rstrip()\n",
    "        self.value = self.line[37:47].rstrip()\n",
    "        self.addr  = self.line[61:].rstrip()\n",
    "        \n",
    "        self.add_leading_0byte_if_r()  \n",
    "        \n",
    "    def add_leading_0byte_if_r(self):\n",
    "        if self.name[0] == 'r' and len(self.addr)==2:\n",
    "            self.addr='00'+self.addr #.append('00') #is trailing since has been reversed by data_to_list()\n",
    "        \n",
    "def create_command_dict(commands):\n",
    "    line   = [x for x,line in enumerate(commands)]\n",
    "    name   = [Config_cmdline(line).name  for line in commands]\n",
    "    value  = [Config_cmdline(line).value for line in commands]\n",
    "    addr   = [Config_cmdline(line).addr  for line in commands]\n",
    "    return {'line':line,'name':name, 'value': value, 'address': addr}\n",
    "    \n",
    "def create_diff_df_with_pagecalls(df1,df2):\n",
    "    def add_missing_pagecalls(df_1,df_2,df_delta):\n",
    "        df_delta_with_pages=df_delta.loc[:,['line','name','value','address']]\n",
    "        for row in df_delta.index:\n",
    "            line,name,value,addr = df_delta.loc[row,['line','name','value','address']]\n",
    "            is_PMB_address=len(addr)==2\n",
    "            if is_PMB_address:\n",
    "                df_closest_preceeding_pageline = df_2[df_2['name']=='PAGE'][df2['line']<line].tail(1)\n",
    "                df_delta_with_pages=df_delta_with_pages.append(df_closest_preceeding_pageline)\n",
    "        df_delta_with_pages=df_delta_with_pages.sort_values(by=['line'])\n",
    "        return df_delta_with_pages\n",
    "    df_diff = df1.merge(df2,how='outer',indicator=True).loc[lambda x : x['_merge']=='right_only']\n",
    "    df_diff = add_missing_pagecalls(df1,df2,df_diff)\n",
    "    return df_diff\n",
    "\n",
    "def create_file_header(header):\n",
    "    diff_header=header\n",
    "    now=datetime.now().strftime(\"%Y/%m/%d %H:%M:%S\")\n",
    "    diff_header[-1]=now\n",
    "    header_contents=''\n",
    "    for line in diff_header:\n",
    "        header_contents=header_contents+f\"{line}\"+'\\n'\n",
    "    header_contents=header_contents+'\\n'+crc+'\\n'+'\\n'\n",
    "    return header_contents\n",
    "\n",
    "def create_data_contents(delta):\n",
    "    delta_list=delta[['name','value','address']].values.tolist()\n",
    "    data_contents=''\n",
    "    for line in delta_list:\n",
    "        formatted_line = f\"{line[0]:<19}{'0x'+line[1]:<22}\"+'# 0x'+line[2]+'\\n'\n",
    "        data_contents = data_contents+formatted_line\n",
    "    return data_contents\n",
    "\n",
    "def create_file_contents(header_contents,data_contents):\n",
    "    file_contents=header_contents+data_contents\n",
    "    return file_contents"
   ]
  },
  {
   "cell_type": "code",
   "execution_count": 3,
   "metadata": {},
   "outputs": [],
   "source": [
    "oldprojectfile = 'sample_files/ISL69269-0 0x60e.txt'\n",
    "newprojectfile = 'sample_files/ISL69269-0 0x60f.txt'\n",
    "outputfilename = 'diff_file_ef.txt'"
   ]
  },
  {
   "cell_type": "code",
   "execution_count": 4,
   "metadata": {},
   "outputs": [],
   "source": [
    "with open(oldprojectfile) as file:\n",
    "    file1_contents = file.read()"
   ]
  },
  {
   "cell_type": "code",
   "execution_count": 5,
   "metadata": {},
   "outputs": [],
   "source": [
    "with open(newprojectfile) as file:\n",
    "    file2_contents = file.read()"
   ]
  },
  {
   "cell_type": "code",
   "execution_count": 6,
   "metadata": {},
   "outputs": [],
   "source": [
    "lines1        = file1_contents.split('\\n')\n",
    "lines2        = file2_contents.split('\\n')\n",
    "\n",
    "commands1     = lines1[9:-1]\n",
    "commands2     = lines2[9:-1]\n",
    "\n",
    "header       = lines2[:6]\n",
    "crc          = lines2[7]"
   ]
  },
  {
   "cell_type": "code",
   "execution_count": 7,
   "metadata": {},
   "outputs": [],
   "source": [
    "command1_dict = create_command_dict(commands1)\n",
    "command2_dict = create_command_dict(commands2)"
   ]
  },
  {
   "cell_type": "code",
   "execution_count": 8,
   "metadata": {},
   "outputs": [],
   "source": [
    "df1 = pd.DataFrame(command1_dict) \n",
    "df2 = pd.DataFrame(command2_dict) "
   ]
  },
  {
   "cell_type": "code",
   "execution_count": 9,
   "metadata": {},
   "outputs": [
    {
     "data": {
      "text/html": [
       "<div>\n",
       "<style scoped>\n",
       "    .dataframe tbody tr th:only-of-type {\n",
       "        vertical-align: middle;\n",
       "    }\n",
       "\n",
       "    .dataframe tbody tr th {\n",
       "        vertical-align: top;\n",
       "    }\n",
       "\n",
       "    .dataframe thead th {\n",
       "        text-align: right;\n",
       "    }\n",
       "</style>\n",
       "<table border=\"1\" class=\"dataframe\">\n",
       "  <thead>\n",
       "    <tr style=\"text-align: right;\">\n",
       "      <th></th>\n",
       "      <th>line</th>\n",
       "      <th>name</th>\n",
       "      <th>value</th>\n",
       "      <th>address</th>\n",
       "    </tr>\n",
       "  </thead>\n",
       "  <tbody>\n",
       "    <tr>\n",
       "      <th>1008</th>\n",
       "      <td>136</td>\n",
       "      <td>rGUI5</td>\n",
       "      <td>A1A08E17</td>\n",
       "      <td>003F</td>\n",
       "    </tr>\n",
       "    <tr>\n",
       "      <th>1009</th>\n",
       "      <td>559</td>\n",
       "      <td>svidIccMax0</td>\n",
       "      <td>00000096</td>\n",
       "      <td>E421</td>\n",
       "    </tr>\n",
       "  </tbody>\n",
       "</table>\n",
       "</div>"
      ],
      "text/plain": [
       "      line         name     value address\n",
       "1008   136        rGUI5  A1A08E17    003F\n",
       "1009   559  svidIccMax0  00000096    E421"
      ]
     },
     "execution_count": 9,
     "metadata": {},
     "output_type": "execute_result"
    }
   ],
   "source": [
    "delta = create_diff_df_with_pagecalls(df1,df2)\n",
    "delta"
   ]
  },
  {
   "cell_type": "code",
   "execution_count": 10,
   "metadata": {},
   "outputs": [],
   "source": [
    "hdr=create_file_header(header)\n",
    "cmds=create_data_contents(delta)\n",
    "file_contents=create_file_contents(hdr,cmds)\n",
    "with open(outputfilename, 'w') as diff_file:\n",
    "    diff_file.write(file_contents)"
   ]
  },
  {
   "cell_type": "code",
   "execution_count": null,
   "metadata": {},
   "outputs": [],
   "source": []
  }
 ],
 "metadata": {
  "kernelspec": {
   "display_name": "Python 3",
   "language": "python",
   "name": "python3"
  },
  "language_info": {
   "codemirror_mode": {
    "name": "ipython",
    "version": 3
   },
   "file_extension": ".py",
   "mimetype": "text/x-python",
   "name": "python",
   "nbconvert_exporter": "python",
   "pygments_lexer": "ipython3",
   "version": "3.8.5"
  }
 },
 "nbformat": 4,
 "nbformat_minor": 4
}
