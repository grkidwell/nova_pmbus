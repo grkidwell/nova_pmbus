{
 "cells": [
  {
   "cell_type": "code",
   "execution_count": 2,
   "metadata": {},
   "outputs": [],
   "source": [
    "import pandas as pd"
   ]
  },
  {
   "cell_type": "code",
   "execution_count": 3,
   "metadata": {},
   "outputs": [],
   "source": [
    "with open('sample_files/ISL69269-0 0x60f.txt') as file:\n",
    "    file1_contents = file.read()"
   ]
  },
  {
   "cell_type": "code",
   "execution_count": 4,
   "metadata": {},
   "outputs": [],
   "source": [
    "with open('sample_files/ISL69269-0 0x60g.txt') as file:\n",
    "    file2_contents = file.read()"
   ]
  },
  {
   "cell_type": "code",
   "execution_count": 5,
   "metadata": {},
   "outputs": [],
   "source": [
    "lines1        = file1_contents.split('\\n')\n",
    "lines2        = file2_contents.split('\\n')\n",
    "\n",
    "commands1     = lines1[9:-1]\n",
    "commands2     = lines2[9:-1]"
   ]
  },
  {
   "cell_type": "code",
   "execution_count": 148,
   "metadata": {},
   "outputs": [],
   "source": [
    "class Config_cmdline:\n",
    "    def __init__(self,line):\n",
    "        self.line = line\n",
    "        self.name = self.line[:20].rstrip()\n",
    "        self.value = self.line[37:47].rstrip()\n",
    "        self.addr  = self.line[61:].rstrip()\n",
    "        \n",
    "        self.add_leading_0byte_if_r()  \n",
    "        \n",
    "    def add_leading_0byte_if_r(self):\n",
    "        if self.name[0] == 'r' and len(self.addr)==2:\n",
    "            self.addr='00'+self.addr #.append('00') #is trailing since has been reversed by data_to_list()\n",
    "        \n",
    "def create_command_dict(commands):\n",
    "    line   = [x for x,line in enumerate(commands)]\n",
    "    name   = [Config_cmdline(line).name  for line in commands]\n",
    "    value  = [Config_cmdline(line).value for line in commands]\n",
    "    addr   = [Config_cmdline(line).addr  for line in commands]\n",
    "    return {'line':line,'name':name, 'value': value, 'address': addr}\n",
    "    \n",
    "def create_diff_df_with_pagecalls(df1,df2):\n",
    "    def add_missing_pagecalls(df_1,df_2,df_delta):\n",
    "        df_delta_with_pages=df_delta.loc[:,['line','name','value','address']]\n",
    "        for row in df_delta.index:\n",
    "            line,name,value,addr = df_delta.loc[row,['line','name','value','address']]\n",
    "            is_PMB_address=len(addr)==2\n",
    "            if is_PMB_address:\n",
    "                df_closest_preceeding_pageline = df_2[df_2['name']=='PAGE'][df2['line']<line].tail(1)\n",
    "                df_delta_with_pages=df_delta_with_pages.append(df_closest_preceeding_pageline)\n",
    "        df_delta_with_pages=df_delta_with_pages.sort_values(by=['line'])\n",
    "        return df_delta_with_pages\n",
    "    df_diff = df1.merge(df2,how='outer',indicator=True).loc[lambda x : x['_merge']=='right_only']\n",
    "    df_diff = add_missing_pagecalls(df1,df2,df_diff)\n",
    "    return df_diff"
   ]
  },
  {
   "cell_type": "code",
   "execution_count": 7,
   "metadata": {},
   "outputs": [],
   "source": [
    "command1_dict = create_command_dict(commands1)\n",
    "command2_dict = create_command_dict(commands2)"
   ]
  },
  {
   "cell_type": "code",
   "execution_count": 8,
   "metadata": {},
   "outputs": [
    {
     "data": {
      "text/plain": [
       "4"
      ]
     },
     "execution_count": 8,
     "metadata": {},
     "output_type": "execute_result"
    }
   ],
   "source": [
    "len(command2_dict['address'][136])"
   ]
  },
  {
   "cell_type": "code",
   "execution_count": 9,
   "metadata": {},
   "outputs": [],
   "source": [
    "df1 = pd.DataFrame(command1_dict) #,columns=['value','address'],index=command1_dict['name'])\n",
    "df2 = pd.DataFrame(command2_dict) #,columns=['value','address'],index=command1_dict['name'])"
   ]
  },
  {
   "cell_type": "code",
   "execution_count": 150,
   "metadata": {},
   "outputs": [
    {
     "name": "stderr",
     "output_type": "stream",
     "text": [
      "<ipython-input-148-68d0dfc49940>:28: UserWarning: Boolean Series key will be reindexed to match DataFrame index.\n",
      "  df_closest_preceeding_pageline = df_2[df_2['name']=='PAGE'][df2['line']<line].tail(1)\n",
      "<ipython-input-148-68d0dfc49940>:28: UserWarning: Boolean Series key will be reindexed to match DataFrame index.\n",
      "  df_closest_preceeding_pageline = df_2[df_2['name']=='PAGE'][df2['line']<line].tail(1)\n"
     ]
    },
    {
     "data": {
      "text/html": [
       "<div>\n",
       "<style scoped>\n",
       "    .dataframe tbody tr th:only-of-type {\n",
       "        vertical-align: middle;\n",
       "    }\n",
       "\n",
       "    .dataframe tbody tr th {\n",
       "        vertical-align: top;\n",
       "    }\n",
       "\n",
       "    .dataframe thead th {\n",
       "        text-align: right;\n",
       "    }\n",
       "</style>\n",
       "<table border=\"1\" class=\"dataframe\">\n",
       "  <thead>\n",
       "    <tr style=\"text-align: right;\">\n",
       "      <th></th>\n",
       "      <th>line</th>\n",
       "      <th>name</th>\n",
       "      <th>value</th>\n",
       "      <th>address</th>\n",
       "    </tr>\n",
       "  </thead>\n",
       "  <tbody>\n",
       "    <tr>\n",
       "      <th>1008</th>\n",
       "      <td>136</td>\n",
       "      <td>rGUI5</td>\n",
       "      <td>E4C06063</td>\n",
       "      <td>003F</td>\n",
       "    </tr>\n",
       "    <tr>\n",
       "      <th>288</th>\n",
       "      <td>288</td>\n",
       "      <td>PAGE</td>\n",
       "      <td>00</td>\n",
       "      <td>0</td>\n",
       "    </tr>\n",
       "    <tr>\n",
       "      <th>1009</th>\n",
       "      <td>289</td>\n",
       "      <td>oocLimit</td>\n",
       "      <td>03E8</td>\n",
       "      <td>46</td>\n",
       "    </tr>\n",
       "    <tr>\n",
       "      <th>480</th>\n",
       "      <td>480</td>\n",
       "      <td>PAGE</td>\n",
       "      <td>00</td>\n",
       "      <td>0</td>\n",
       "    </tr>\n",
       "    <tr>\n",
       "      <th>1010</th>\n",
       "      <td>481</td>\n",
       "      <td>slowOcLimit</td>\n",
       "      <td>04E2</td>\n",
       "      <td>EA</td>\n",
       "    </tr>\n",
       "  </tbody>\n",
       "</table>\n",
       "</div>"
      ],
      "text/plain": [
       "      line         name     value address\n",
       "1008   136        rGUI5  E4C06063    003F\n",
       "288    288         PAGE        00       0\n",
       "1009   289     oocLimit      03E8      46\n",
       "480    480         PAGE        00       0\n",
       "1010   481  slowOcLimit      04E2      EA"
      ]
     },
     "execution_count": 150,
     "metadata": {},
     "output_type": "execute_result"
    }
   ],
   "source": [
    "delta = create_diff_df_with_pagecalls(df1,df2)\n",
    "delta"
   ]
  },
  {
   "cell_type": "code",
   "execution_count": 10,
   "metadata": {},
   "outputs": [
    {
     "name": "stderr",
     "output_type": "stream",
     "text": [
      "<ipython-input-10-cbe12fbdaf26>:3: UserWarning: Boolean Series key will be reindexed to match DataFrame index.\n",
      "  df1[df1['name']=='PAGE'][df1['line']<181].iloc[-1].value\n"
     ]
    },
    {
     "data": {
      "text/plain": [
       "'00'"
      ]
     },
     "execution_count": 10,
     "metadata": {},
     "output_type": "execute_result"
    }
   ],
   "source": [
    "#[df1[df1['name']=='PAGE'].line  < 181]\n",
    "#df1[df1['name']=='PAGE'][df1['line']<181].index[-1]   #.loc[180,['line','name','value','address']]\n",
    "df1[df1['name']=='PAGE'][df1['line']<181].iloc[-1].value"
   ]
  },
  {
   "cell_type": "code",
   "execution_count": 11,
   "metadata": {},
   "outputs": [
    {
     "data": {
      "text/plain": [
       "name       PAGE\n",
       "value        00\n",
       "address       0\n",
       "Name: 180, dtype: object"
      ]
     },
     "execution_count": 11,
     "metadata": {},
     "output_type": "execute_result"
    }
   ],
   "source": [
    "#df1[df1['name']=='PAGE'and df1['line']==180]\n",
    "#page = df1[df1['line']==180]#.loc['value']\n",
    "df1.loc[180,['name','value','address']]#[df1.line==180].value\n"
   ]
  },
  {
   "cell_type": "code",
   "execution_count": 12,
   "metadata": {},
   "outputs": [
    {
     "data": {
      "text/html": [
       "<div>\n",
       "<style scoped>\n",
       "    .dataframe tbody tr th:only-of-type {\n",
       "        vertical-align: middle;\n",
       "    }\n",
       "\n",
       "    .dataframe tbody tr th {\n",
       "        vertical-align: top;\n",
       "    }\n",
       "\n",
       "    .dataframe thead th {\n",
       "        text-align: right;\n",
       "    }\n",
       "</style>\n",
       "<table border=\"1\" class=\"dataframe\">\n",
       "  <thead>\n",
       "    <tr style=\"text-align: right;\">\n",
       "      <th></th>\n",
       "      <th>line</th>\n",
       "      <th>name</th>\n",
       "      <th>value</th>\n",
       "      <th>address</th>\n",
       "      <th>_merge</th>\n",
       "    </tr>\n",
       "  </thead>\n",
       "  <tbody>\n",
       "    <tr>\n",
       "      <th>136</th>\n",
       "      <td>136</td>\n",
       "      <td>rGUI5</td>\n",
       "      <td>A1A08E17</td>\n",
       "      <td>003F</td>\n",
       "      <td>left_only</td>\n",
       "    </tr>\n",
       "    <tr>\n",
       "      <th>289</th>\n",
       "      <td>289</td>\n",
       "      <td>oocLimit</td>\n",
       "      <td>05DC</td>\n",
       "      <td>46</td>\n",
       "      <td>left_only</td>\n",
       "    </tr>\n",
       "    <tr>\n",
       "      <th>481</th>\n",
       "      <td>481</td>\n",
       "      <td>slowOcLimit</td>\n",
       "      <td>05DC</td>\n",
       "      <td>EA</td>\n",
       "      <td>left_only</td>\n",
       "    </tr>\n",
       "  </tbody>\n",
       "</table>\n",
       "</div>"
      ],
      "text/plain": [
       "     line         name     value address     _merge\n",
       "136   136        rGUI5  A1A08E17    003F  left_only\n",
       "289   289     oocLimit      05DC      46  left_only\n",
       "481   481  slowOcLimit      05DC      EA  left_only"
      ]
     },
     "execution_count": 12,
     "metadata": {},
     "output_type": "execute_result"
    }
   ],
   "source": [
    "df_diff1=df1.merge(df2, how = 'outer',indicator=True).loc[lambda x : x['_merge']=='left_only']\n",
    "df_diff1"
   ]
  },
  {
   "cell_type": "code",
   "execution_count": 87,
   "metadata": {},
   "outputs": [
    {
     "data": {
      "text/html": [
       "<div>\n",
       "<style scoped>\n",
       "    .dataframe tbody tr th:only-of-type {\n",
       "        vertical-align: middle;\n",
       "    }\n",
       "\n",
       "    .dataframe tbody tr th {\n",
       "        vertical-align: top;\n",
       "    }\n",
       "\n",
       "    .dataframe thead th {\n",
       "        text-align: right;\n",
       "    }\n",
       "</style>\n",
       "<table border=\"1\" class=\"dataframe\">\n",
       "  <thead>\n",
       "    <tr style=\"text-align: right;\">\n",
       "      <th></th>\n",
       "      <th>line</th>\n",
       "      <th>name</th>\n",
       "      <th>value</th>\n",
       "      <th>address</th>\n",
       "    </tr>\n",
       "  </thead>\n",
       "  <tbody>\n",
       "    <tr>\n",
       "      <th>1008</th>\n",
       "      <td>136</td>\n",
       "      <td>rGUI5</td>\n",
       "      <td>E4C06063</td>\n",
       "      <td>003F</td>\n",
       "    </tr>\n",
       "    <tr>\n",
       "      <th>1009</th>\n",
       "      <td>289</td>\n",
       "      <td>oocLimit</td>\n",
       "      <td>03E8</td>\n",
       "      <td>46</td>\n",
       "    </tr>\n",
       "    <tr>\n",
       "      <th>1010</th>\n",
       "      <td>481</td>\n",
       "      <td>slowOcLimit</td>\n",
       "      <td>04E2</td>\n",
       "      <td>EA</td>\n",
       "    </tr>\n",
       "  </tbody>\n",
       "</table>\n",
       "</div>"
      ],
      "text/plain": [
       "      line         name     value address\n",
       "1008   136        rGUI5  E4C06063    003F\n",
       "1009   289     oocLimit      03E8      46\n",
       "1010   481  slowOcLimit      04E2      EA"
      ]
     },
     "execution_count": 87,
     "metadata": {},
     "output_type": "execute_result"
    }
   ],
   "source": [
    "df_diff2=df1.merge(df2,how='outer',indicator=True).loc[lambda x : x['_merge']=='right_only']\n",
    "df_diff2.iloc[:,0:4]  #[0,1,2,3]]"
   ]
  },
  {
   "cell_type": "code",
   "execution_count": 86,
   "metadata": {},
   "outputs": [
    {
     "data": {
      "text/html": [
       "<div>\n",
       "<style scoped>\n",
       "    .dataframe tbody tr th:only-of-type {\n",
       "        vertical-align: middle;\n",
       "    }\n",
       "\n",
       "    .dataframe tbody tr th {\n",
       "        vertical-align: top;\n",
       "    }\n",
       "\n",
       "    .dataframe thead th {\n",
       "        text-align: right;\n",
       "    }\n",
       "</style>\n",
       "<table border=\"1\" class=\"dataframe\">\n",
       "  <thead>\n",
       "    <tr style=\"text-align: right;\">\n",
       "      <th></th>\n",
       "      <th>line</th>\n",
       "      <th>name</th>\n",
       "      <th>value</th>\n",
       "      <th>address</th>\n",
       "    </tr>\n",
       "  </thead>\n",
       "  <tbody>\n",
       "    <tr>\n",
       "      <th>1008</th>\n",
       "      <td>136</td>\n",
       "      <td>rGUI5</td>\n",
       "      <td>E4C06063</td>\n",
       "      <td>003F</td>\n",
       "    </tr>\n",
       "    <tr>\n",
       "      <th>1009</th>\n",
       "      <td>289</td>\n",
       "      <td>oocLimit</td>\n",
       "      <td>03E8</td>\n",
       "      <td>46</td>\n",
       "    </tr>\n",
       "    <tr>\n",
       "      <th>1010</th>\n",
       "      <td>481</td>\n",
       "      <td>slowOcLimit</td>\n",
       "      <td>04E2</td>\n",
       "      <td>EA</td>\n",
       "    </tr>\n",
       "  </tbody>\n",
       "</table>\n",
       "</div>"
      ],
      "text/plain": [
       "      line         name     value address\n",
       "1008   136        rGUI5  E4C06063    003F\n",
       "1009   289     oocLimit      03E8      46\n",
       "1010   481  slowOcLimit      04E2      EA"
      ]
     },
     "execution_count": 86,
     "metadata": {},
     "output_type": "execute_result"
    }
   ],
   "source": [
    "df_diff2.loc[:,['line','name','value','address']]"
   ]
  },
  {
   "cell_type": "code",
   "execution_count": 14,
   "metadata": {},
   "outputs": [
    {
     "data": {
      "text/plain": [
       "'PAGE'"
      ]
     },
     "execution_count": 14,
     "metadata": {},
     "output_type": "execute_result"
    }
   ],
   "source": [
    "a,b,c = df2.loc[288,['name','value','address']]\n",
    "a"
   ]
  },
  {
   "cell_type": "code",
   "execution_count": 91,
   "metadata": {},
   "outputs": [
    {
     "name": "stderr",
     "output_type": "stream",
     "text": [
      "<ipython-input-91-fb6a99325168>:1: UserWarning: Boolean Series key will be reindexed to match DataFrame index.\n",
      "  newpage=df2[df2['name']=='PAGE'][df2['line']<289].tail(1)#.iloc[-1]\n"
     ]
    },
    {
     "data": {
      "text/html": [
       "<div>\n",
       "<style scoped>\n",
       "    .dataframe tbody tr th:only-of-type {\n",
       "        vertical-align: middle;\n",
       "    }\n",
       "\n",
       "    .dataframe tbody tr th {\n",
       "        vertical-align: top;\n",
       "    }\n",
       "\n",
       "    .dataframe thead th {\n",
       "        text-align: right;\n",
       "    }\n",
       "</style>\n",
       "<table border=\"1\" class=\"dataframe\">\n",
       "  <thead>\n",
       "    <tr style=\"text-align: right;\">\n",
       "      <th></th>\n",
       "      <th>line</th>\n",
       "      <th>name</th>\n",
       "      <th>value</th>\n",
       "      <th>address</th>\n",
       "    </tr>\n",
       "  </thead>\n",
       "  <tbody>\n",
       "    <tr>\n",
       "      <th>288</th>\n",
       "      <td>288</td>\n",
       "      <td>PAGE</td>\n",
       "      <td>00</td>\n",
       "      <td>0</td>\n",
       "    </tr>\n",
       "  </tbody>\n",
       "</table>\n",
       "</div>"
      ],
      "text/plain": [
       "     line  name value address\n",
       "288   288  PAGE    00       0"
      ]
     },
     "execution_count": 91,
     "metadata": {},
     "output_type": "execute_result"
    }
   ],
   "source": [
    "newpage=df2[df2['name']=='PAGE'][df2['line']<289].tail(1)#.iloc[-1]\n",
    "newpage"
   ]
  },
  {
   "cell_type": "code",
   "execution_count": 103,
   "metadata": {},
   "outputs": [
    {
     "data": {
      "text/plain": [
       "'PAGE'"
      ]
     },
     "execution_count": 103,
     "metadata": {},
     "output_type": "execute_result"
    }
   ],
   "source": [
    "new_page=newpage.iloc[0,1]\n",
    "new_page"
   ]
  },
  {
   "cell_type": "code",
   "execution_count": 89,
   "metadata": {},
   "outputs": [
    {
     "name": "stderr",
     "output_type": "stream",
     "text": [
      "<ipython-input-89-bc2388bf6211>:1: UserWarning: Boolean Series key will be reindexed to match DataFrame index.\n",
      "  pd.concat([df_diff2.loc[:,['line','name','value','address']],df2[df2['name']=='PAGE'][df2['line']<289].tail(1)])\n"
     ]
    },
    {
     "data": {
      "text/html": [
       "<div>\n",
       "<style scoped>\n",
       "    .dataframe tbody tr th:only-of-type {\n",
       "        vertical-align: middle;\n",
       "    }\n",
       "\n",
       "    .dataframe tbody tr th {\n",
       "        vertical-align: top;\n",
       "    }\n",
       "\n",
       "    .dataframe thead th {\n",
       "        text-align: right;\n",
       "    }\n",
       "</style>\n",
       "<table border=\"1\" class=\"dataframe\">\n",
       "  <thead>\n",
       "    <tr style=\"text-align: right;\">\n",
       "      <th></th>\n",
       "      <th>line</th>\n",
       "      <th>name</th>\n",
       "      <th>value</th>\n",
       "      <th>address</th>\n",
       "    </tr>\n",
       "  </thead>\n",
       "  <tbody>\n",
       "    <tr>\n",
       "      <th>1008</th>\n",
       "      <td>136</td>\n",
       "      <td>rGUI5</td>\n",
       "      <td>E4C06063</td>\n",
       "      <td>003F</td>\n",
       "    </tr>\n",
       "    <tr>\n",
       "      <th>1009</th>\n",
       "      <td>289</td>\n",
       "      <td>oocLimit</td>\n",
       "      <td>03E8</td>\n",
       "      <td>46</td>\n",
       "    </tr>\n",
       "    <tr>\n",
       "      <th>1010</th>\n",
       "      <td>481</td>\n",
       "      <td>slowOcLimit</td>\n",
       "      <td>04E2</td>\n",
       "      <td>EA</td>\n",
       "    </tr>\n",
       "    <tr>\n",
       "      <th>288</th>\n",
       "      <td>288</td>\n",
       "      <td>PAGE</td>\n",
       "      <td>00</td>\n",
       "      <td>0</td>\n",
       "    </tr>\n",
       "  </tbody>\n",
       "</table>\n",
       "</div>"
      ],
      "text/plain": [
       "      line         name     value address\n",
       "1008   136        rGUI5  E4C06063    003F\n",
       "1009   289     oocLimit      03E8      46\n",
       "1010   481  slowOcLimit      04E2      EA\n",
       "288    288         PAGE        00       0"
      ]
     },
     "execution_count": 89,
     "metadata": {},
     "output_type": "execute_result"
    }
   ],
   "source": [
    "pd.concat([df_diff2.loc[:,['line','name','value','address']],df2[df2['name']=='PAGE'][df2['line']<289].tail(1)])"
   ]
  },
  {
   "cell_type": "code",
   "execution_count": 130,
   "metadata": {},
   "outputs": [
    {
     "data": {
      "text/plain": [
       "('line', 'address')"
      ]
     },
     "execution_count": 130,
     "metadata": {},
     "output_type": "execute_result"
    }
   ],
   "source": [
    "l,a=df_diff2.loc[:,['line','address']]\n",
    "l,a"
   ]
  },
  {
   "cell_type": "code",
   "execution_count": 133,
   "metadata": {},
   "outputs": [
    {
     "data": {
      "text/plain": [
       "1008    136\n",
       "1009    289\n",
       "1010    481\n",
       "Name: line, dtype: int64"
      ]
     },
     "execution_count": 133,
     "metadata": {},
     "output_type": "execute_result"
    }
   ],
   "source": [
    "l=df_diff2.iloc[:,0]\n",
    "l"
   ]
  },
  {
   "cell_type": "code",
   "execution_count": 107,
   "metadata": {},
   "outputs": [
    {
     "data": {
      "text/plain": [
       "1008"
      ]
     },
     "execution_count": 107,
     "metadata": {},
     "output_type": "execute_result"
    }
   ],
   "source": [
    "df_diff2.index[0]"
   ]
  },
  {
   "cell_type": "code",
   "execution_count": 144,
   "metadata": {},
   "outputs": [
    {
     "name": "stderr",
     "output_type": "stream",
     "text": [
      "<ipython-input-144-8d7f824dfcde>:6: UserWarning: Boolean Series key will be reindexed to match DataFrame index.\n",
      "  df_closest_preceeding_pageline = df2[df2['name']=='PAGE'][df2['line']<line].tail(1)\n",
      "<ipython-input-144-8d7f824dfcde>:6: UserWarning: Boolean Series key will be reindexed to match DataFrame index.\n",
      "  df_closest_preceeding_pageline = df2[df2['name']=='PAGE'][df2['line']<line].tail(1)\n"
     ]
    },
    {
     "data": {
      "text/html": [
       "<div>\n",
       "<style scoped>\n",
       "    .dataframe tbody tr th:only-of-type {\n",
       "        vertical-align: middle;\n",
       "    }\n",
       "\n",
       "    .dataframe tbody tr th {\n",
       "        vertical-align: top;\n",
       "    }\n",
       "\n",
       "    .dataframe thead th {\n",
       "        text-align: right;\n",
       "    }\n",
       "</style>\n",
       "<table border=\"1\" class=\"dataframe\">\n",
       "  <thead>\n",
       "    <tr style=\"text-align: right;\">\n",
       "      <th></th>\n",
       "      <th>line</th>\n",
       "      <th>name</th>\n",
       "      <th>value</th>\n",
       "      <th>address</th>\n",
       "    </tr>\n",
       "  </thead>\n",
       "  <tbody>\n",
       "    <tr>\n",
       "      <th>1008</th>\n",
       "      <td>136</td>\n",
       "      <td>rGUI5</td>\n",
       "      <td>E4C06063</td>\n",
       "      <td>003F</td>\n",
       "    </tr>\n",
       "    <tr>\n",
       "      <th>288</th>\n",
       "      <td>288</td>\n",
       "      <td>PAGE</td>\n",
       "      <td>00</td>\n",
       "      <td>0</td>\n",
       "    </tr>\n",
       "    <tr>\n",
       "      <th>1009</th>\n",
       "      <td>289</td>\n",
       "      <td>oocLimit</td>\n",
       "      <td>03E8</td>\n",
       "      <td>46</td>\n",
       "    </tr>\n",
       "    <tr>\n",
       "      <th>480</th>\n",
       "      <td>480</td>\n",
       "      <td>PAGE</td>\n",
       "      <td>00</td>\n",
       "      <td>0</td>\n",
       "    </tr>\n",
       "    <tr>\n",
       "      <th>1010</th>\n",
       "      <td>481</td>\n",
       "      <td>slowOcLimit</td>\n",
       "      <td>04E2</td>\n",
       "      <td>EA</td>\n",
       "    </tr>\n",
       "  </tbody>\n",
       "</table>\n",
       "</div>"
      ],
      "text/plain": [
       "      line         name     value address\n",
       "1008   136        rGUI5  E4C06063    003F\n",
       "288    288         PAGE        00       0\n",
       "1009   289     oocLimit      03E8      46\n",
       "480    480         PAGE        00       0\n",
       "1010   481  slowOcLimit      04E2      EA"
      ]
     },
     "execution_count": 144,
     "metadata": {},
     "output_type": "execute_result"
    }
   ],
   "source": [
    "def add_missing_pagecalls(dataframe):\n",
    "    df_diff_with_pages=df_diff2.loc[:,['line','name','value','address']]\n",
    "    for row in df_diff2.index:\n",
    "        line,name,value,addr = df_diff2.loc[row,['line','name','value','address']]\n",
    "        is_PMB_address=len(addr)==2\n",
    "        if is_PMB_address:\n",
    "            df_closest_preceeding_pageline = df2[df2['name']=='PAGE'][df2['line']<line].tail(1)\n",
    "            df_diff_with_pages=df_diff_with_pages.append(df_closest_preceeding_pageline)\n",
    "    df_diff_with_pages=df_diff_with_pages.sort_values(by=['line'])\n",
    "    return df_diff_with_pages"
   ]
  },
  {
   "cell_type": "code",
   "execution_count": 145,
   "metadata": {},
   "outputs": [],
   "source": [
    "def add_missing_pagecalls(df_1,df_2,df_diff):\n",
    "    df_diff_with_pages=df_diff.loc[:,['line','name','value','address']]\n",
    "    for row in df_diff.index:\n",
    "        line,name,value,addr = df_diff.loc[row,['line','name','value','address']]\n",
    "        is_PMB_address=len(addr)==2\n",
    "        if is_PMB_address:\n",
    "            df_closest_preceeding_pageline = df_2[df_2['name']=='PAGE'][df2['line']<line].tail(1)\n",
    "            df_diff_with_pages=df_diff_with_pages.append(df_closest_preceeding_pageline)\n",
    "    df_diff_with_pages=df_diff_with_pages.sort_values(by=['line'])\n",
    "    return df_diff_with_pages"
   ]
  },
  {
   "cell_type": "code",
   "execution_count": 147,
   "metadata": {},
   "outputs": [
    {
     "name": "stderr",
     "output_type": "stream",
     "text": [
      "<ipython-input-145-91d15e7f13ef>:7: UserWarning: Boolean Series key will be reindexed to match DataFrame index.\n",
      "  df_closest_preceeding_pageline = df_2[df_2['name']=='PAGE'][df2['line']<line].tail(1)\n",
      "<ipython-input-145-91d15e7f13ef>:7: UserWarning: Boolean Series key will be reindexed to match DataFrame index.\n",
      "  df_closest_preceeding_pageline = df_2[df_2['name']=='PAGE'][df2['line']<line].tail(1)\n"
     ]
    },
    {
     "data": {
      "text/html": [
       "<div>\n",
       "<style scoped>\n",
       "    .dataframe tbody tr th:only-of-type {\n",
       "        vertical-align: middle;\n",
       "    }\n",
       "\n",
       "    .dataframe tbody tr th {\n",
       "        vertical-align: top;\n",
       "    }\n",
       "\n",
       "    .dataframe thead th {\n",
       "        text-align: right;\n",
       "    }\n",
       "</style>\n",
       "<table border=\"1\" class=\"dataframe\">\n",
       "  <thead>\n",
       "    <tr style=\"text-align: right;\">\n",
       "      <th></th>\n",
       "      <th>line</th>\n",
       "      <th>name</th>\n",
       "      <th>value</th>\n",
       "      <th>address</th>\n",
       "    </tr>\n",
       "  </thead>\n",
       "  <tbody>\n",
       "    <tr>\n",
       "      <th>1008</th>\n",
       "      <td>136</td>\n",
       "      <td>rGUI5</td>\n",
       "      <td>E4C06063</td>\n",
       "      <td>003F</td>\n",
       "    </tr>\n",
       "    <tr>\n",
       "      <th>288</th>\n",
       "      <td>288</td>\n",
       "      <td>PAGE</td>\n",
       "      <td>00</td>\n",
       "      <td>0</td>\n",
       "    </tr>\n",
       "    <tr>\n",
       "      <th>1009</th>\n",
       "      <td>289</td>\n",
       "      <td>oocLimit</td>\n",
       "      <td>03E8</td>\n",
       "      <td>46</td>\n",
       "    </tr>\n",
       "    <tr>\n",
       "      <th>480</th>\n",
       "      <td>480</td>\n",
       "      <td>PAGE</td>\n",
       "      <td>00</td>\n",
       "      <td>0</td>\n",
       "    </tr>\n",
       "    <tr>\n",
       "      <th>1010</th>\n",
       "      <td>481</td>\n",
       "      <td>slowOcLimit</td>\n",
       "      <td>04E2</td>\n",
       "      <td>EA</td>\n",
       "    </tr>\n",
       "  </tbody>\n",
       "</table>\n",
       "</div>"
      ],
      "text/plain": [
       "      line         name     value address\n",
       "1008   136        rGUI5  E4C06063    003F\n",
       "288    288         PAGE        00       0\n",
       "1009   289     oocLimit      03E8      46\n",
       "480    480         PAGE        00       0\n",
       "1010   481  slowOcLimit      04E2      EA"
      ]
     },
     "execution_count": 147,
     "metadata": {},
     "output_type": "execute_result"
    }
   ],
   "source": [
    "df_d=add_missing_pagecalls(df1,df1,df_diff2)\n",
    "df_d"
   ]
  },
  {
   "cell_type": "code",
   "execution_count": 141,
   "metadata": {},
   "outputs": [
    {
     "data": {
      "text/html": [
       "<div>\n",
       "<style scoped>\n",
       "    .dataframe tbody tr th:only-of-type {\n",
       "        vertical-align: middle;\n",
       "    }\n",
       "\n",
       "    .dataframe tbody tr th {\n",
       "        vertical-align: top;\n",
       "    }\n",
       "\n",
       "    .dataframe thead th {\n",
       "        text-align: right;\n",
       "    }\n",
       "</style>\n",
       "<table border=\"1\" class=\"dataframe\">\n",
       "  <thead>\n",
       "    <tr style=\"text-align: right;\">\n",
       "      <th></th>\n",
       "      <th>line</th>\n",
       "      <th>name</th>\n",
       "      <th>value</th>\n",
       "      <th>address</th>\n",
       "    </tr>\n",
       "  </thead>\n",
       "  <tbody>\n",
       "    <tr>\n",
       "      <th>1008</th>\n",
       "      <td>136</td>\n",
       "      <td>rGUI5</td>\n",
       "      <td>E4C06063</td>\n",
       "      <td>003F</td>\n",
       "    </tr>\n",
       "    <tr>\n",
       "      <th>288</th>\n",
       "      <td>288</td>\n",
       "      <td>PAGE</td>\n",
       "      <td>00</td>\n",
       "      <td>0</td>\n",
       "    </tr>\n",
       "    <tr>\n",
       "      <th>1009</th>\n",
       "      <td>289</td>\n",
       "      <td>oocLimit</td>\n",
       "      <td>03E8</td>\n",
       "      <td>46</td>\n",
       "    </tr>\n",
       "    <tr>\n",
       "      <th>480</th>\n",
       "      <td>480</td>\n",
       "      <td>PAGE</td>\n",
       "      <td>00</td>\n",
       "      <td>0</td>\n",
       "    </tr>\n",
       "    <tr>\n",
       "      <th>1010</th>\n",
       "      <td>481</td>\n",
       "      <td>slowOcLimit</td>\n",
       "      <td>04E2</td>\n",
       "      <td>EA</td>\n",
       "    </tr>\n",
       "  </tbody>\n",
       "</table>\n",
       "</div>"
      ],
      "text/plain": [
       "      line         name     value address\n",
       "1008   136        rGUI5  E4C06063    003F\n",
       "288    288         PAGE        00       0\n",
       "1009   289     oocLimit      03E8      46\n",
       "480    480         PAGE        00       0\n",
       "1010   481  slowOcLimit      04E2      EA"
      ]
     },
     "execution_count": 141,
     "metadata": {},
     "output_type": "execute_result"
    }
   ],
   "source": [
    "df_diff_with_pages.sort_values(by=['line'])"
   ]
  },
  {
   "cell_type": "code",
   "execution_count": 140,
   "metadata": {},
   "outputs": [
    {
     "ename": "AttributeError",
     "evalue": "'int' object has no attribute 'type'",
     "output_type": "error",
     "traceback": [
      "\u001b[1;31m---------------------------------------------------------------------------\u001b[0m",
      "\u001b[1;31mAttributeError\u001b[0m                            Traceback (most recent call last)",
      "\u001b[1;32m<ipython-input-140-bc049245ce8d>\u001b[0m in \u001b[0;36m<module>\u001b[1;34m\u001b[0m\n\u001b[0;32m      1\u001b[0m \u001b[0ml\u001b[0m\u001b[1;33m=\u001b[0m\u001b[0mdf_diff_with_pages\u001b[0m\u001b[1;33m[\u001b[0m\u001b[1;34m'line'\u001b[0m\u001b[1;33m]\u001b[0m\u001b[1;33m.\u001b[0m\u001b[0mto_list\u001b[0m\u001b[1;33m(\u001b[0m\u001b[1;33m)\u001b[0m\u001b[1;33m\u001b[0m\u001b[1;33m\u001b[0m\u001b[0m\n\u001b[1;32m----> 2\u001b[1;33m \u001b[0ml\u001b[0m\u001b[1;33m[\u001b[0m\u001b[1;36m0\u001b[0m\u001b[1;33m]\u001b[0m\u001b[1;33m.\u001b[0m\u001b[0mtype\u001b[0m\u001b[1;33m\u001b[0m\u001b[1;33m\u001b[0m\u001b[0m\n\u001b[0m\u001b[0;32m      3\u001b[0m \u001b[1;31m#df_diff_with_pages.reindex(l)\u001b[0m\u001b[1;33m\u001b[0m\u001b[1;33m\u001b[0m\u001b[1;33m\u001b[0m\u001b[0m\n",
      "\u001b[1;31mAttributeError\u001b[0m: 'int' object has no attribute 'type'"
     ]
    }
   ],
   "source": [
    "l=df_diff_with_pages['line'].to_list()\n",
    "l[0].type\n",
    "#df_diff_with_pages.reindex(l)"
   ]
  },
  {
   "cell_type": "code",
   "execution_count": 64,
   "metadata": {},
   "outputs": [
    {
     "data": {
      "text/plain": [
       "True"
      ]
     },
     "execution_count": 64,
     "metadata": {},
     "output_type": "execute_result"
    }
   ],
   "source": [
    "df2['name'].equals(df1['name'])"
   ]
  },
  {
   "cell_type": "code",
   "execution_count": 65,
   "metadata": {},
   "outputs": [
    {
     "data": {
      "text/plain": [
       "True"
      ]
     },
     "execution_count": 65,
     "metadata": {},
     "output_type": "execute_result"
    }
   ],
   "source": [
    "df2['address'].equals(df1['address'])"
   ]
  },
  {
   "cell_type": "code",
   "execution_count": 66,
   "metadata": {},
   "outputs": [
    {
     "data": {
      "text/html": [
       "<div>\n",
       "<style scoped>\n",
       "    .dataframe tbody tr th:only-of-type {\n",
       "        vertical-align: middle;\n",
       "    }\n",
       "\n",
       "    .dataframe tbody tr th {\n",
       "        vertical-align: top;\n",
       "    }\n",
       "\n",
       "    .dataframe thead th {\n",
       "        text-align: right;\n",
       "    }\n",
       "</style>\n",
       "<table border=\"1\" class=\"dataframe\">\n",
       "  <thead>\n",
       "    <tr style=\"text-align: right;\">\n",
       "      <th></th>\n",
       "      <th>name</th>\n",
       "      <th>value</th>\n",
       "      <th>address</th>\n",
       "    </tr>\n",
       "  </thead>\n",
       "  <tbody>\n",
       "    <tr>\n",
       "      <th>136</th>\n",
       "      <td>rGUI5</td>\n",
       "      <td>A1A08E17</td>\n",
       "      <td>3F</td>\n",
       "    </tr>\n",
       "    <tr>\n",
       "      <th>289</th>\n",
       "      <td>oocLimit</td>\n",
       "      <td>05DC</td>\n",
       "      <td>46</td>\n",
       "    </tr>\n",
       "    <tr>\n",
       "      <th>481</th>\n",
       "      <td>slowOcLimit</td>\n",
       "      <td>05DC</td>\n",
       "      <td>EA</td>\n",
       "    </tr>\n",
       "    <tr>\n",
       "      <th>136</th>\n",
       "      <td>rGUI5</td>\n",
       "      <td>E4C06063</td>\n",
       "      <td>3F</td>\n",
       "    </tr>\n",
       "    <tr>\n",
       "      <th>289</th>\n",
       "      <td>oocLimit</td>\n",
       "      <td>03E8</td>\n",
       "      <td>46</td>\n",
       "    </tr>\n",
       "    <tr>\n",
       "      <th>481</th>\n",
       "      <td>slowOcLimit</td>\n",
       "      <td>04E2</td>\n",
       "      <td>EA</td>\n",
       "    </tr>\n",
       "  </tbody>\n",
       "</table>\n",
       "</div>"
      ],
      "text/plain": [
       "            name     value address\n",
       "136        rGUI5  A1A08E17      3F\n",
       "289     oocLimit      05DC      46\n",
       "481  slowOcLimit      05DC      EA\n",
       "136        rGUI5  E4C06063      3F\n",
       "289     oocLimit      03E8      46\n",
       "481  slowOcLimit      04E2      EA"
      ]
     },
     "execution_count": 66,
     "metadata": {},
     "output_type": "execute_result"
    }
   ],
   "source": [
    "pd.concat([df1,df2]).drop_duplicates(keep=False)\n"
   ]
  },
  {
   "cell_type": "code",
   "execution_count": 67,
   "metadata": {},
   "outputs": [
    {
     "data": {
      "text/plain": [
       "{'04E2', '05DC', 'A1A08E17', 'E4C06063'}"
      ]
     },
     "execution_count": 67,
     "metadata": {},
     "output_type": "execute_result"
    }
   ],
   "source": [
    "set(df1.value).symmetric_difference(df2.value)"
   ]
  },
  {
   "cell_type": "code",
   "execution_count": 104,
   "metadata": {},
   "outputs": [
    {
     "data": {
      "text/plain": [
       "'PAGE'"
      ]
     },
     "execution_count": 104,
     "metadata": {},
     "output_type": "execute_result"
    }
   ],
   "source": [
    "new_page"
   ]
  },
  {
   "cell_type": "code",
   "execution_count": 108,
   "metadata": {},
   "outputs": [
    {
     "data": {
      "text/html": [
       "<div>\n",
       "<style scoped>\n",
       "    .dataframe tbody tr th:only-of-type {\n",
       "        vertical-align: middle;\n",
       "    }\n",
       "\n",
       "    .dataframe tbody tr th {\n",
       "        vertical-align: top;\n",
       "    }\n",
       "\n",
       "    .dataframe thead th {\n",
       "        text-align: right;\n",
       "    }\n",
       "</style>\n",
       "<table border=\"1\" class=\"dataframe\">\n",
       "  <thead>\n",
       "    <tr style=\"text-align: right;\">\n",
       "      <th></th>\n",
       "      <th>line</th>\n",
       "      <th>name</th>\n",
       "      <th>value</th>\n",
       "      <th>address</th>\n",
       "    </tr>\n",
       "  </thead>\n",
       "  <tbody>\n",
       "    <tr>\n",
       "      <th>288</th>\n",
       "      <td>288</td>\n",
       "      <td>PAGE</td>\n",
       "      <td>00</td>\n",
       "      <td>0</td>\n",
       "    </tr>\n",
       "  </tbody>\n",
       "</table>\n",
       "</div>"
      ],
      "text/plain": [
       "     line  name value address\n",
       "288   288  PAGE    00       0"
      ]
     },
     "execution_count": 108,
     "metadata": {},
     "output_type": "execute_result"
    }
   ],
   "source": [
    "test=newpage\n",
    "test"
   ]
  },
  {
   "cell_type": "code",
   "execution_count": 115,
   "metadata": {},
   "outputs": [],
   "source": [
    "test=test.append(test)"
   ]
  },
  {
   "cell_type": "code",
   "execution_count": 116,
   "metadata": {},
   "outputs": [
    {
     "data": {
      "text/html": [
       "<div>\n",
       "<style scoped>\n",
       "    .dataframe tbody tr th:only-of-type {\n",
       "        vertical-align: middle;\n",
       "    }\n",
       "\n",
       "    .dataframe tbody tr th {\n",
       "        vertical-align: top;\n",
       "    }\n",
       "\n",
       "    .dataframe thead th {\n",
       "        text-align: right;\n",
       "    }\n",
       "</style>\n",
       "<table border=\"1\" class=\"dataframe\">\n",
       "  <thead>\n",
       "    <tr style=\"text-align: right;\">\n",
       "      <th></th>\n",
       "      <th>line</th>\n",
       "      <th>name</th>\n",
       "      <th>value</th>\n",
       "      <th>address</th>\n",
       "    </tr>\n",
       "  </thead>\n",
       "  <tbody>\n",
       "    <tr>\n",
       "      <th>288</th>\n",
       "      <td>288</td>\n",
       "      <td>PAGE</td>\n",
       "      <td>00</td>\n",
       "      <td>0</td>\n",
       "    </tr>\n",
       "    <tr>\n",
       "      <th>288</th>\n",
       "      <td>288</td>\n",
       "      <td>PAGE</td>\n",
       "      <td>00</td>\n",
       "      <td>0</td>\n",
       "    </tr>\n",
       "    <tr>\n",
       "      <th>288</th>\n",
       "      <td>288</td>\n",
       "      <td>PAGE</td>\n",
       "      <td>00</td>\n",
       "      <td>0</td>\n",
       "    </tr>\n",
       "    <tr>\n",
       "      <th>288</th>\n",
       "      <td>288</td>\n",
       "      <td>PAGE</td>\n",
       "      <td>00</td>\n",
       "      <td>0</td>\n",
       "    </tr>\n",
       "    <tr>\n",
       "      <th>288</th>\n",
       "      <td>288</td>\n",
       "      <td>PAGE</td>\n",
       "      <td>00</td>\n",
       "      <td>0</td>\n",
       "    </tr>\n",
       "    <tr>\n",
       "      <th>288</th>\n",
       "      <td>288</td>\n",
       "      <td>PAGE</td>\n",
       "      <td>00</td>\n",
       "      <td>0</td>\n",
       "    </tr>\n",
       "    <tr>\n",
       "      <th>288</th>\n",
       "      <td>288</td>\n",
       "      <td>PAGE</td>\n",
       "      <td>00</td>\n",
       "      <td>0</td>\n",
       "    </tr>\n",
       "    <tr>\n",
       "      <th>288</th>\n",
       "      <td>288</td>\n",
       "      <td>PAGE</td>\n",
       "      <td>00</td>\n",
       "      <td>0</td>\n",
       "    </tr>\n",
       "  </tbody>\n",
       "</table>\n",
       "</div>"
      ],
      "text/plain": [
       "     line  name value address\n",
       "288   288  PAGE    00       0\n",
       "288   288  PAGE    00       0\n",
       "288   288  PAGE    00       0\n",
       "288   288  PAGE    00       0\n",
       "288   288  PAGE    00       0\n",
       "288   288  PAGE    00       0\n",
       "288   288  PAGE    00       0\n",
       "288   288  PAGE    00       0"
      ]
     },
     "execution_count": 116,
     "metadata": {},
     "output_type": "execute_result"
    }
   ],
   "source": [
    "test"
   ]
  },
  {
   "cell_type": "code",
   "execution_count": null,
   "metadata": {},
   "outputs": [],
   "source": []
  }
 ],
 "metadata": {
  "kernelspec": {
   "display_name": "Python 3",
   "language": "python",
   "name": "python3"
  },
  "language_info": {
   "codemirror_mode": {
    "name": "ipython",
    "version": 3
   },
   "file_extension": ".py",
   "mimetype": "text/x-python",
   "name": "python",
   "nbconvert_exporter": "python",
   "pygments_lexer": "ipython3",
   "version": "3.8.5"
  }
 },
 "nbformat": 4,
 "nbformat_minor": 4
}
